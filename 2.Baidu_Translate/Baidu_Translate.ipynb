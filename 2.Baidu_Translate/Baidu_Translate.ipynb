{
 "cells": [
  {
   "cell_type": "code",
   "execution_count": 1,
   "id": "a4a45896-a1db-4a6d-9536-af7900345b1e",
   "metadata": {},
   "outputs": [],
   "source": [
    "import requests\n",
    "import json"
   ]
  },
  {
   "cell_type": "code",
   "execution_count": 2,
   "id": "c13605a9-56e6-4a0b-b10b-e4fe8f193889",
   "metadata": {},
   "outputs": [],
   "source": [
    "# UA伪装\n",
    "headers = {\n",
    "    'User-Agent':'Mozilla/5.0 (Macintosh; Intel Mac OS X 10_15_7) AppleWebKit/537.36 (KHTML, like Gecko) Chrome/110.0.0.0 Safari/537.36'\n",
    "}"
   ]
  },
  {
   "cell_type": "code",
   "execution_count": 3,
   "id": "beadb0e4-4642-42af-ae06-2977d064f755",
   "metadata": {},
   "outputs": [],
   "source": [
    "post_url = 'https://fanyi.baidu.com/sug'"
   ]
  },
  {
   "cell_type": "code",
   "execution_count": 4,
   "id": "09da130a-ee28-4d9e-89d0-40a1f1ac22c1",
   "metadata": {},
   "outputs": [
    {
     "name": "stdin",
     "output_type": "stream",
     "text": [
      "enter a word love\n"
     ]
    }
   ],
   "source": [
    "# post请求参数处理\n",
    "word = input('enter a word')\n",
    "data = {\n",
    "    'kw':word\n",
    "}"
   ]
  },
  {
   "cell_type": "code",
   "execution_count": 5,
   "id": "fdd4961b-33e9-43e0-b67f-82fbef70aa57",
   "metadata": {},
   "outputs": [],
   "source": [
    "# 请求发送\n",
    "response = requests.post(url = post_url, data = data, headers = headers)"
   ]
  },
  {
   "cell_type": "code",
   "execution_count": 6,
   "id": "05b749a8-feeb-4c0b-a922-1fb310ded461",
   "metadata": {},
   "outputs": [],
   "source": [
    "# 返回对象obj（确认响应数据是json格式，才能使用json()）\n",
    "dic_obj = response.json()"
   ]
  },
  {
   "cell_type": "code",
   "execution_count": 7,
   "id": "f6a4537e-4728-42df-b73f-168f700cbecc",
   "metadata": {},
   "outputs": [
    {
     "name": "stdout",
     "output_type": "stream",
     "text": [
      "{'errno': 0, 'data': [{'k': 'love', 'v': 'vt.& vi. 喜欢; 爱，热爱; 爱戴; 赞美，称赞 vt. 喜欢; 喜爱; 喜好; 爱慕 n.'}, {'k': 'Love', 'v': '[人名] [英格兰人姓氏] 洛夫来源于中世纪英语教名及古英语女子名Lufu,或相应的男子名Lufa,'}, {'k': 'LOVE', 'v': 'abbr. League of Victims and Emphathi-zers (pro-cap'}, {'k': 'loved', 'v': 'v. 喜欢; 喜爱; 爱，热爱( love的过去式和过去分词 ); 喜好'}, {'k': 'Loved', 'v': '[电影]爱的诺言'}]}\n"
     ]
    }
   ],
   "source": [
    "print(dic_obj)"
   ]
  },
  {
   "cell_type": "code",
   "execution_count": 10,
   "id": "18ef7ff0-5488-4f09-b816-9faadbb53697",
   "metadata": {},
   "outputs": [
    {
     "data": {
      "text/plain": [
       "{'errno': 0,\n",
       " 'data': [{'k': 'love',\n",
       "   'v': 'vt.& vi. 喜欢; 爱，热爱; 爱戴; 赞美，称赞 vt. 喜欢; 喜爱; 喜好; 爱慕 n.'},\n",
       "  {'k': 'Love', 'v': '[人名] [英格兰人姓氏] 洛夫来源于中世纪英语教名及古英语女子名Lufu,或相应的男子名Lufa,'},\n",
       "  {'k': 'LOVE', 'v': 'abbr. League of Victims and Emphathi-zers (pro-cap'},\n",
       "  {'k': 'loved', 'v': 'v. 喜欢; 喜爱; 爱，热爱( love的过去式和过去分词 ); 喜好'},\n",
       "  {'k': 'Loved', 'v': '[电影]爱的诺言'}]}"
      ]
     },
     "execution_count": 10,
     "metadata": {},
     "output_type": "execute_result"
    }
   ],
   "source": [
    "dic_obj"
   ]
  },
  {
   "cell_type": "code",
   "execution_count": 8,
   "id": "750eccd4-ebf0-4254-bc7e-fb730874b1ba",
   "metadata": {},
   "outputs": [
    {
     "name": "stdout",
     "output_type": "stream",
     "text": [
      "successfully\n"
     ]
    }
   ],
   "source": [
    "# 持久化存储\n",
    "fileName = word + '.json'\n",
    "fp = open(fileName,'w',encoding = 'utf-8')\n",
    "json.dump(dic_obj, fp = fp, ensure_ascii = False)\n",
    "print('successfully')"
   ]
  },
  {
   "cell_type": "code",
   "execution_count": null,
   "id": "233fe052-2532-4bd6-aee6-a9fd0b5d2339",
   "metadata": {},
   "outputs": [],
   "source": []
  }
 ],
 "metadata": {
  "kernelspec": {
   "display_name": "Python 3 (ipykernel)",
   "language": "python",
   "name": "python3"
  },
  "language_info": {
   "codemirror_mode": {
    "name": "ipython",
    "version": 3
   },
   "file_extension": ".py",
   "mimetype": "text/x-python",
   "name": "python",
   "nbconvert_exporter": "python",
   "pygments_lexer": "ipython3",
   "version": "3.8.16"
  }
 },
 "nbformat": 4,
 "nbformat_minor": 5
}
