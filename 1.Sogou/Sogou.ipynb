{
 "cells": [
  {
   "cell_type": "code",
   "execution_count": 1,
   "id": "a35fe4d2-5bcf-4475-a092-7e21609a00f0",
   "metadata": {},
   "outputs": [],
   "source": [
    "import requests"
   ]
  },
  {
   "cell_type": "code",
   "execution_count": 3,
   "id": "36cd0e93-1c92-4bdc-b7fd-d2ff0de65ccc",
   "metadata": {},
   "outputs": [],
   "source": [
    "headers = {\n",
    "    'User-Agent':'Mozilla/5.0 (Macintosh; Intel Mac OS X 10_15_7) AppleWebKit/537.36 (KHTML, like Gecko) Chrome/110.0.0.0 Safari/537.36'\n",
    "}"
   ]
  },
  {
   "cell_type": "code",
   "execution_count": 4,
   "id": "3a9df995-3f85-4aa3-becc-d844cc7cf510",
   "metadata": {},
   "outputs": [
    {
     "name": "stdin",
     "output_type": "stream",
     "text": [
      "enter a word 123\n"
     ]
    }
   ],
   "source": [
    "url = \"https://www.sogou.com/web\"\n",
    "kw = input('enter a word')"
   ]
  },
  {
   "cell_type": "code",
   "execution_count": 5,
   "id": "544ff527-496c-47e3-92a6-ebadc1699be1",
   "metadata": {},
   "outputs": [],
   "source": [
    "params = {\n",
    "    'query': kw\n",
    "}"
   ]
  },
  {
   "cell_type": "code",
   "execution_count": 6,
   "id": "3ca9e98b-715f-4f5a-b82b-d8972020bcca",
   "metadata": {},
   "outputs": [],
   "source": [
    "response = requests.get(url = url,params = params, headers = headers)"
   ]
  },
  {
   "cell_type": "code",
   "execution_count": 7,
   "id": "ce177b31-fd14-4223-93cb-562d565a1570",
   "metadata": {},
   "outputs": [],
   "source": [
    "page_text = response.text"
   ]
  },
  {
   "cell_type": "code",
   "execution_count": 8,
   "id": "e9de8a04-b78a-4ee4-9345-3d7219fd1d66",
   "metadata": {},
   "outputs": [],
   "source": [
    "fileName = kw + '.html'"
   ]
  },
  {
   "cell_type": "code",
   "execution_count": 9,
   "id": "d63b1e3d-11b5-4c63-8dde-f9818ab97d19",
   "metadata": {},
   "outputs": [
    {
     "name": "stdout",
     "output_type": "stream",
     "text": [
      "123.html successful\n"
     ]
    }
   ],
   "source": [
    "with open(fileName,'w',encoding = 'utf-8') as fp:\n",
    "    fp.write(page_text)\n",
    "    print(fileName, 'successful')"
   ]
  },
  {
   "cell_type": "code",
   "execution_count": null,
   "id": "b8b60033-107d-4fdf-befd-8c455390390e",
   "metadata": {},
   "outputs": [],
   "source": []
  }
 ],
 "metadata": {
  "kernelspec": {
   "display_name": "Python 3 (ipykernel)",
   "language": "python",
   "name": "python3"
  },
  "language_info": {
   "codemirror_mode": {
    "name": "ipython",
    "version": 3
   },
   "file_extension": ".py",
   "mimetype": "text/x-python",
   "name": "python",
   "nbconvert_exporter": "python",
   "pygments_lexer": "ipython3",
   "version": "3.8.16"
  }
 },
 "nbformat": 4,
 "nbformat_minor": 5
}
